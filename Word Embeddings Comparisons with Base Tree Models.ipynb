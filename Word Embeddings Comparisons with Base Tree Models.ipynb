{
 "cells": [
  {
   "cell_type": "markdown",
   "metadata": {},
   "source": [
    "# Retrofitted Word Embeddings:"
   ]
  },
  {
   "cell_type": "code",
   "execution_count": 110,
   "metadata": {
    "colab": {},
    "colab_type": "code",
    "id": "rE1epIXPfUH3"
   },
   "outputs": [],
   "source": [
    "# Imports:\n",
    "import numpy as np\n",
    "import pandas as pd\n",
    "import io\n",
    "import jsonlines\n",
    "import json\n",
    "\n",
    "from GPTModels import GPTTreeModel, GPTTreeModelV2\n",
    "\n",
    "%matplotlib inline\n",
    "import matplotlib.pyplot as plt\n",
    "plt.style.use('ggplot')\n",
    "from sklearn.decomposition import PCA\n",
    "\n",
    "from gensim.test.utils import datapath, get_tmpfile\n",
    "from gensim.models import KeyedVectors\n",
    "from gensim.scripts.glove2word2vec import glove2word2vec"
   ]
  },
  {
   "cell_type": "code",
   "execution_count": 2,
   "metadata": {},
   "outputs": [],
   "source": [
    "e_file1 = \"fasttext_word_vectors_wiki_news.vec\"\n",
    "e_file2 = \"retrofitted_fasttext_word_vectors_wiki.vec\"\n",
    "product_taxomomy_file = \"files/product_taxonomy.txt\""
   ]
  },
  {
   "cell_type": "code",
   "execution_count": 3,
   "metadata": {},
   "outputs": [
    {
     "data": {
      "text/plain": [
       "(999994, 300)"
      ]
     },
     "execution_count": 3,
     "metadata": {},
     "output_type": "execute_result"
    }
   ],
   "source": [
    "glove_file = e_file1\n",
    "word2vec_glove_file = get_tmpfile(\"fasttext_wiki_news.txt\")\n",
    "glove2word2vec(glove_file, word2vec_glove_file)"
   ]
  },
  {
   "cell_type": "code",
   "execution_count": 4,
   "metadata": {},
   "outputs": [],
   "source": [
    "model = KeyedVectors.load_word2vec_format(word2vec_glove_file)"
   ]
  },
  {
   "cell_type": "code",
   "execution_count": 5,
   "metadata": {},
   "outputs": [
    {
     "data": {
      "text/plain": [
       "(830461, 300)"
      ]
     },
     "execution_count": 5,
     "metadata": {},
     "output_type": "execute_result"
    }
   ],
   "source": [
    "glove_file2 = e_file2\n",
    "word2vec_glove_file2 = get_tmpfile(\"retrofitted_fasttext_wiki_news.txt\")\n",
    "glove2word2vec(glove_file2, word2vec_glove_file2)"
   ]
  },
  {
   "cell_type": "code",
   "execution_count": 6,
   "metadata": {},
   "outputs": [],
   "source": [
    "model2 = KeyedVectors.load_word2vec_format(word2vec_glove_file2)"
   ]
  },
  {
   "cell_type": "code",
   "execution_count": 35,
   "metadata": {},
   "outputs": [],
   "source": [
    "model3 = GPTTreeModel(product_taxomomy_file)"
   ]
  },
  {
   "cell_type": "code",
   "execution_count": 36,
   "metadata": {},
   "outputs": [],
   "source": [
    "model4 = GPTTreeModelV2(product_taxomomy_file)"
   ]
  },
  {
   "cell_type": "markdown",
   "metadata": {},
   "source": [
    "# Nearest Neighbors:"
   ]
  },
  {
   "cell_type": "markdown",
   "metadata": {},
   "source": [
    "* model = Represents the pretrained fast text embeddings.\n",
    "* model2 = Represents the retrofitted fast text embeddings (retrofitted by using the GPT tree).\n",
    "* model3 = Represents the basic tree model of the GPT tree. (where nodes are word tokens).\n",
    "* model4 = Represents the basic tree model of the GPT tree. (where nodes are categories (multi-word tokens))."
   ]
  },
  {
   "cell_type": "code",
   "execution_count": 93,
   "metadata": {},
   "outputs": [],
   "source": [
    "sample_word_list = [\"wallet\", \"dresses\", \"sneakers\", \"eyelash\", \"nail\", \"headphone\", \"jewelry\", \"bridal\", \"medical\", \"industrial\", \"circuit\", \"beverage\"]"
   ]
  },
  {
   "cell_type": "code",
   "execution_count": 107,
   "metadata": {},
   "outputs": [],
   "source": [
    "def getNeighbors(word_list, num_neighbors):\n",
    "    neighbors = {}\n",
    "    for cur_word in word_list:\n",
    "        cur_dict = {}\n",
    "        cur_dict[\"fast_text_base_model\"] = list(model.most_similar(cur_word, topn=num_neighbors))\n",
    "        cur_dict[\"fast_text_retrofitted_model\"] = list(model2.most_similar(cur_word, topn=num_neighbors))\n",
    "        cur_dict[\"gpt_tree_word_token_model\"] = list(model3.most_similar(cur_word, num_neighbors))\n",
    "        cur_dict[\"gpt_tree_category_token_model\"] = list(model4.most_similar(cur_word, num_neighbors))\n",
    "        neighbors[cur_word] = cur_dict\n",
    "    return neighbors"
   ]
  },
  {
   "cell_type": "code",
   "execution_count": 112,
   "metadata": {},
   "outputs": [],
   "source": [
    "neighbors_results = getNeighbors(sample_word_list, 10)"
   ]
  },
  {
   "cell_type": "code",
   "execution_count": 119,
   "metadata": {
    "scrolled": false
   },
   "outputs": [
    {
     "name": "stdout",
     "output_type": "stream",
     "text": [
      "Query Word =  wallet\n",
      "fast_text_base_model  :  [('wallets', 0.8026574850082397), ('billfold', 0.7117377519607544), ('purse', 0.6554557681083679), ('briefcase', 0.6548330783843994), ('suitcase', 0.6407263278961182), ('pocketbook', 0.6318467855453491), ('handbag', 0.628136396408081), ('bag', 0.6226708889007568), ('pocket', 0.6206861138343811), ('Wallet', 0.6022135019302368)]\n",
      "fast_text_retrofitted_model  :  [('trainers', 0.9241711497306824), ('collar', 0.9241073131561279), ('closet', 0.9238914847373962), ('gloves', 0.923241913318634), ('pockets', 0.9232417345046997), ('bathroom', 0.9217934608459473), ('supplies', 0.921453595161438), ('balloon', 0.9209336042404175), ('dummies', 0.9207550287246704), ('towel', 0.9199435710906982)]\n",
      "gpt_tree_word_token_model  :  ['keychains', 'chains', 'checkbook', 'wallet', 'accessories', 'apparel', 'handbag', 'lanyards', 'covers']\n",
      "gpt_tree_category_token_model  :  ['business card cases', 'apparel & accessories', 'checkbook covers', 'keychains', 'badge & pass holders', 'wallets & money clips', 'handbag & wallet accessories', 'handbags', 'wallet chains', 'coaching & officiating']\n",
      "\n",
      "\n",
      "\n",
      "Query Word =  dresses\n",
      "fast_text_base_model  :  [('dress', 0.7776743173599243), ('gowns', 0.7461122274398804), ('outfits', 0.7447577118873596), ('frocks', 0.730171799659729), ('clothes', 0.7238320708274841), ('frock', 0.7167913913726807), ('costumes', 0.7127770781517029), ('fashions', 0.6944175958633423), ('garments', 0.6897666454315186), ('costume', 0.683038592338562)]\n",
      "fast_text_retrofitted_model  :  [('outfits', 0.8043464422225952), ('shawls', 0.7855029106140137), ('bridal', 0.7679378986358643), ('kimonos', 0.7651222348213196), ('handkerchiefs', 0.7564547061920166), ('neckties', 0.7508853077888489), ('skirts', 0.7487280368804932), ('tights', 0.7433977127075195), ('scarves', 0.7427889108657837), ('costumes', 0.739687442779541)]\n",
      "gpt_tree_word_token_model  :  ['toddler', 'clothing', 'religious', 'party', 'ceremonial', 'bridal', 'baby', 'dresses', 'wedding']\n",
      "gpt_tree_category_token_model  :  ['wedding & bridal party dresses', 'headwear', 'baby & toddler clothing', 'activewear', 'clothing', 'religious ceremonial clothing', 'wedding dresses', 'bridal party dresses']\n",
      "\n",
      "\n",
      "\n",
      "Query Word =  sneakers\n",
      "fast_text_base_model  :  [('shoes', 0.7963762283325195), ('Nikes', 0.7715200781822205), ('sneaker', 0.7539402842521667), ('high-tops', 0.7335833311080933), ('jeans', 0.7154147624969482), ('Reeboks', 0.7041424512863159), ('self-lacing', 0.693387508392334), ('footwear', 0.685702383518219), ('shoe', 0.676337718963623), ('high-top', 0.6703898310661316)]\n",
      "fast_text_retrofitted_model  :  [('shoelaces', 0.5806640982627869), ('tights', 0.56593918800354), ('wetsuit', 0.5549348592758179), ('tracksuit', 0.5466732978820801), ('high-heeled', 0.5462884306907654), ('garters', 0.5442103147506714), ('thrashin', 0.5434860587120056), ('tuxedos', 0.542492151260376), ('pajamas', 0.5421057343482971), ('bottoms', 0.54075026512146)]\n",
      "gpt_tree_word_token_model  :  []\n",
      "gpt_tree_category_token_model  :  []\n",
      "\n",
      "\n",
      "\n",
      "Query Word =  eyelash\n",
      "fast_text_base_model  :  [('eyelid', 0.6943507790565491), ('eyelashes', 0.6555318236351013), ('Eyelash', 0.6130855679512024), ('eyebrow', 0.5747913718223572), ('hypotrichosis', 0.5501641631126404), ('eye', 0.5246801972389221), ('ectropion', 0.5230544209480286), ('sideburn', 0.5209178328514099), ('mascara', 0.5178901553153992), ('tweezing', 0.5143232345581055)]\n",
      "fast_text_retrofitted_model  :  [('eyelashes', 0.7957451343536377), ('eyelid', 0.79535311460495), ('cuticle', 0.7931104898452759), ('eyeliner', 0.7829413414001465), ('pedicure', 0.7796398401260376), ('eyebrow', 0.7744373083114624), ('aftershave', 0.7703962326049805), ('remover', 0.7652847766876221), ('curlers', 0.7650399208068848), ('moisturizer', 0.763030469417572)]\n",
      "gpt_tree_word_token_model  :  ['tools', 'applicators', 'makeup', 'eyelash', 'adhesive', 'accessories', 'false', 'remover']\n",
      "gpt_tree_category_token_model  :  ['false eyelash adhesive', 'false eyelash remover', 'eye makeup', 'makeup tools', 'false eyelash applicators', 'false eyelash accessories']\n",
      "\n",
      "\n",
      "\n",
      "Query Word =  nail\n",
      "fast_text_base_model  :  [('nails', 0.7646626234054565), ('Nail', 0.6815060377120972), ('hammer', 0.6365544199943542), ('coffin', 0.6146208643913269), ('tooth', 0.6034718751907349), ('Ingrown', 0.5769712924957275), ('nailed', 0.571466326713562), ('toenail', 0.5708842277526855), ('nailing', 0.5617578029632568), ('fingernail', 0.5443263053894043)]\n",
      "fast_text_retrofitted_model  :  [('nails', 0.834459125995636), ('brush', 0.8034947514533997), ('cleaning', 0.8008772134780884), ('container', 0.8007228374481201), ('umbrella', 0.798243522644043), ('jelly', 0.7977932691574097), ('buttons', 0.797595202922821), ('drill', 0.7938705086708069), ('needle', 0.7925050258636475), ('powered', 0.7922486066818237)]\n",
      "gpt_tree_word_token_model  :  ['grooming', 'glue', 'cream', 'drops', 'supplies', 'accessories', 'oil', 'false', 'cuticle', 'tool']\n",
      "gpt_tree_category_token_model  :  ['nail tools', 'nail polishes', 'manicure tool sets', 'cosmetic tools', 'nail drill accessories', 'nail files & emery boards', 'hardware fasteners', 'nail clippers', 'manicure glue', 'cuticle pushers']\n",
      "\n",
      "\n",
      "\n",
      "Query Word =  headphone\n",
      "fast_text_base_model  :  [('headphones', 0.8209380507469177), ('earphone', 0.7743808627128601), ('earphones', 0.7532823085784912), ('in-ear', 0.7051899433135986), ('noise-cancelling', 0.7033127546310425), ('earbud', 0.6987709999084473), ('earbuds', 0.6968907713890076), ('noise-canceling', 0.6824988126754761), ('on-ear', 0.6771529912948608), ('over-the-ear', 0.6733205914497375)]\n",
      "fast_text_retrofitted_model  :  [('headset', 0.8438346982002258), ('headphones', 0.8344180583953857), ('headsets', 0.8062997460365295), ('in-ear', 0.8058491349220276), ('earbuds', 0.7943603992462158), ('earphones', 0.7750386595726013), ('subwoofers', 0.7628939151763916), ('microphone', 0.7623782157897949), ('amplifiers', 0.7573181986808777), ('subwoofer', 0.7551628351211548)]\n",
      "gpt_tree_word_token_model  :  ['headphone', 'tips', 'accessories', 'headset', 'audio', 'amplifiers', 'cushions']\n",
      "gpt_tree_category_token_model  :  ['audio amplifiers', 'headphones', 'headphones & headsets', 'headsets', 'audio accessories', 'audio components', 'headphone cushions & tips', 'headphone & headset accessories']\n",
      "\n",
      "\n",
      "\n",
      "Query Word =  jewelry\n",
      "fast_text_base_model  :  [('jewellery', 0.8458842635154724), ('jewelery', 0.7982226610183716), ('Jewelry', 0.7465617656707764), ('jewels', 0.7133915424346924), ('necklaces', 0.7064751386642456), ('jewlery', 0.6904516816139221), ('jeweler', 0.6901429295539856), ('earrings', 0.6897250413894653), ('necklace', 0.6860930919647217), ('jewellry', 0.6697840690612793)]\n",
      "fast_text_retrofitted_model  :  [('watches', 0.9489432573318481), ('textile', 0.920264720916748), ('fabric', 0.9190586805343628), ('collar', 0.9181699752807617), ('guitars', 0.907098650932312), ('leather', 0.9058460593223572), ('holders', 0.9054845571517944), ('furniture', 0.9027093648910522), ('bells', 0.9025425910949707), ('dolls', 0.9022561311721802)]\n",
      "gpt_tree_word_token_model  :  ['anklets', 'embellishments', 'watches', 'costume', 'necklaces', 'rings', 'brooches', 'accessories', 'apparel', 'cleaning']\n",
      "gpt_tree_category_token_model  :  ['anklets', 'art & craft kits', 'jewelry steam cleaners', 'watches', 'necklaces', 'rings', 'watch accessories', 'crafting fibers', 'jewelry cleaning & care', 'health care']\n",
      "\n",
      "\n",
      "\n",
      "Query Word =  bridal\n",
      "fast_text_base_model  :  [('Bridal', 0.7013619542121887), ('wedding', 0.6971268057823181), ('bride', 0.6706303358078003), ('brides', 0.6563866138458252), ('nuptial', 0.624470591545105), ('weddings', 0.604181170463562), ('bridesmaids', 0.5985747575759888), ('brides-to-be', 0.5979398488998413), ('Wedding', 0.5958755016326904), ('wedding-dress', 0.5917303562164307)]\n",
      "fast_text_retrofitted_model  :  [('dresses', 0.7679378986358643), ('veils', 0.7211719751358032), ('sashes', 0.6997756958007812), ('shawls', 0.69002366065979), ('handbag', 0.6885933876037598), ('skirt', 0.6880180835723877), ('outfits', 0.687088131904602), ('neckties', 0.6865934133529663), ('lingerie', 0.6856265664100647), ('outerwear', 0.6848816871643066)]\n",
      "gpt_tree_word_token_model  :  ['clothing', 'party', 'bridal', 'veils', 'dresses', 'accessories', 'wedding']\n",
      "gpt_tree_category_token_model  :  ['wedding & bridal party dresses', 'clothing', 'clothing accessories', 'bridal accessories', 'wedding dresses', 'bridal veils', 'bridal party dresses']\n",
      "\n",
      "\n",
      "\n",
      "Query Word =  medical\n",
      "fast_text_base_model  :  [('non-medical', 0.7531497478485107), ('Medical', 0.7337131500244141), ('medicine', 0.7087500095367432), ('biomedical', 0.707133412361145), ('scientific', 0.6785809993743896), ('surgical', 0.6780204772949219), ('clinical', 0.6717367172241211), ('medical-related', 0.6671162843704224), ('nonmedical', 0.6520602703094482), ('psychiatric', 0.6491138935089111)]\n",
      "fast_text_retrofitted_model  :  [('pregnancy', 0.7984236478805542), ('infection', 0.7798855900764465), ('minnesotacare', 0.7783873677253723), ('medicare', 0.7753872275352478), ('dual-eligible', 0.7733356952667236), ('surgical', 0.7708055377006531), ('homecare', 0.7700567245483398), ('ostomy', 0.7699673175811768), ('patient', 0.7689211368560791), ('gowns', 0.7686054706573486)]\n",
      "gpt_tree_word_token_model  :  ['scrub', 'hiv', 'tables', 'needles', 'response', 'accessories', 'scrubs', 'crash', 'urinary', 'syringe']\n",
      "gpt_tree_category_token_model  :  ['medical carts', 'pet supplies', 'surgical tables', 'medical needles & syringes', 'first aid', 'medical furniture', 'finger cots', 'blood typing test kits', 'scrub caps', 'iv poles & carts']\n",
      "\n",
      "\n",
      "\n",
      "Query Word =  industrial\n",
      "fast_text_base_model  :  [('Industrial', 0.7521812319755554), ('agricultural', 0.7076520919799805), ('non-industrial', 0.6948546767234802), ('commercial', 0.6842043399810791), ('post-industrial', 0.6672486662864685), ('manufacturing', 0.6582396030426025), ('economic', 0.6441927552223206), ('industial', 0.6374520063400269), ('technological', 0.6354840993881226), ('industrial-', 0.6332723498344421)]\n",
      "fast_text_retrofitted_model  :  [('machinery', 0.9368744492530823), ('manufacturing', 0.9278634786605835), ('hospitality', 0.9141269326210022), ('mining', 0.8933207392692566), ('logging', 0.8888548016548157), ('automation', 0.8854911923408508), ('electrical', 0.8846077919006348), ('rubber', 0.8826098442077637), ('textile', 0.8789150714874268), ('steel', 0.8759731650352478)]\n",
      "gpt_tree_word_token_model  :  ['heavy', 'machinery', 'mining', 'logging', 'film', 'signage', 'accessories', 'control', 'hotel', 'hairdressing']\n",
      "gpt_tree_category_token_model  :  ['law enforcement', 'advertising & marketing', 'janitorial carts & caddies', 'signage', 'automation control components', 'industrial storage accessories', 'industrial cabinets', 'agriculture', 'dentistry', 'material handling']\n",
      "\n",
      "\n",
      "\n",
      "Query Word =  circuit\n",
      "fast_text_base_model  :  [('circuits', 0.8598065376281738), ('Circuit', 0.7146456837654114), ('chitlin', 0.660155177116394), ('Circuits', 0.6481963396072388), ('circuitry', 0.6310238838195801), ('circut', 0.6187638640403748), ('circuit.', 0.5725470185279846), ('voltage', 0.556573748588562), ('multivibrator', 0.554794430732727), ('astable', 0.5513337850570679)]\n",
      "fast_text_retrofitted_model  :  [('transmission', 0.9052597284317017), ('voltage', 0.8951243162155151), ('components', 0.8932689428329468), ('instrument', 0.8928475975990295), ('processing', 0.8881044387817383), ('devices', 0.8872815370559692), ('panels', 0.886758029460907), ('breaker', 0.8861210346221924), ('recorder', 0.8824650049209595), ('generator', 0.8800593614578247)]\n",
      "gpt_tree_word_token_model  :  ['board', 'drive', 'machine', 'motherboards', 'supplies', 'copier,', 'spa', 'printed', 'accessories', 'appliance']\n",
      "gpt_tree_category_token_model  :  ['motherboards', 'television circuit boards', 'electronic filters', 'development boards', 'household appliance circuit boards', 'pool & spa circuit boards', 'exercise machine circuit boards', 'camera circuit boards', 'capacitors', 'electronics']\n",
      "\n",
      "\n",
      "\n",
      "Query Word =  beverage\n",
      "fast_text_base_model  :  [('beverages', 0.8480624556541443), ('drinks', 0.742108941078186), ('drink', 0.7288026213645935), ('beer', 0.6780048608779907), ('soda', 0.6659165620803833), ('Beverage', 0.6635951399803162), ('beer-like', 0.6596051454544067), ('liquor', 0.6584639549255371), ('Beverages', 0.6359903812408447), ('malt-based', 0.6337028741836548)]\n",
      "fast_text_retrofitted_model  :  [('beverages', 0.8431060314178467), ('coolers', 0.8085405826568604), ('bottling', 0.7987464070320129), ('flavored', 0.776342511177063), ('infusions', 0.7757865190505981), ('liqueurs', 0.7612159252166748), ('liquor', 0.760986328125), ('thermoses', 0.7588968276977539), ('flasks', 0.7519332766532898), ('vodka', 0.7481627464294434)]\n",
      "gpt_tree_word_token_model  :  ['canteens', 'bags', 'accessories', 'wine', 'insulated', 'dining', 'food', 'organizers', 'replacement', 'totes']\n",
      "gpt_tree_category_token_model  :  ['soda', 'food, beverages & tobacco', 'milk', 'fruit flavored drinks', 'beer', 'canteens', 'food storage accessories', 'liquor & spirits', 'buttermilk', 'kitchen & dining']\n",
      "\n",
      "\n",
      "\n"
     ]
    }
   ],
   "source": [
    "for key, val in neighbors_results.items():\n",
    "    print(\"Query Word = \", key)\n",
    "    for k, v in val.items():\n",
    "        print(k, \" : \", v)\n",
    "    print(\"\\n\\n\")"
   ]
  },
  {
   "cell_type": "code",
   "execution_count": 120,
   "metadata": {},
   "outputs": [],
   "source": [
    "results_file_name = \"retrofitting_models_neighbors_comparison.json\"\n",
    "with open(results_file_name, \"w\") as f:\n",
    "    json.dump(neighbors_results, f)"
   ]
  },
  {
   "cell_type": "code",
   "execution_count": null,
   "metadata": {},
   "outputs": [],
   "source": []
  }
 ],
 "metadata": {
  "colab": {
   "collapsed_sections": [],
   "name": "FastText Product Embeddings.ipynb",
   "provenance": []
  },
  "kernelspec": {
   "display_name": "Python 3",
   "language": "python",
   "name": "python3"
  },
  "language_info": {
   "codemirror_mode": {
    "name": "ipython",
    "version": 3
   },
   "file_extension": ".py",
   "mimetype": "text/x-python",
   "name": "python",
   "nbconvert_exporter": "python",
   "pygments_lexer": "ipython3",
   "version": "3.7.4"
  }
 },
 "nbformat": 4,
 "nbformat_minor": 1
}