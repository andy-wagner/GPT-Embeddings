{
 "cells": [
  {
   "cell_type": "markdown",
   "metadata": {},
   "source": [
    "# Retrofitted Word Embeddings:"
   ]
  },
  {
   "cell_type": "code",
   "execution_count": 1,
   "metadata": {
    "colab": {},
    "colab_type": "code",
    "id": "rE1epIXPfUH3"
   },
   "outputs": [],
   "source": [
    "# Imports:\n",
    "import numpy as np\n",
    "import pandas as pd\n",
    "import io\n",
    "\n",
    "%matplotlib inline\n",
    "import matplotlib.pyplot as plt\n",
    "plt.style.use('ggplot')\n",
    "from sklearn.decomposition import PCA\n",
    "\n",
    "from gensim.test.utils import datapath, get_tmpfile\n",
    "from gensim.models import KeyedVectors\n",
    "from gensim.scripts.glove2word2vec import glove2word2vec"
   ]
  },
  {
   "cell_type": "code",
   "execution_count": 2,
   "metadata": {},
   "outputs": [],
   "source": [
    "e_file1 = \"fasttext_word_vectors_wiki_news.vec\"\n",
    "e_file2 = \"retrofitted_fasttext_word_vectors_wiki.vec\""
   ]
  },
  {
   "cell_type": "code",
   "execution_count": null,
   "metadata": {},
   "outputs": [],
   "source": [
    "glove_file = e_file1\n",
    "word2vec_glove_file = get_tmpfile(\"fasttext_wiki_news.txt\")\n",
    "glove2word2vec(glove_file, word2vec_glove_file)"
   ]
  },
  {
   "cell_type": "code",
   "execution_count": 4,
   "metadata": {},
   "outputs": [],
   "source": [
    "model = KeyedVectors.load_word2vec_format(word2vec_glove_file)"
   ]
  },
  {
   "cell_type": "code",
   "execution_count": null,
   "metadata": {},
   "outputs": [],
   "source": [
    "glove_file2 = e_file2\n",
    "word2vec_glove_file2 = get_tmpfile(\"retrofitted_fasttext_wiki_news.txt\")\n",
    "glove2word2vec(glove_file2, word2vec_glove_file2)"
   ]
  },
  {
   "cell_type": "code",
   "execution_count": 8,
   "metadata": {},
   "outputs": [],
   "source": [
    "model2 = KeyedVectors.load_word2vec_format(word2vec_glove_file2)"
   ]
  },
  {
   "cell_type": "markdown",
   "metadata": {},
   "source": [
    "# Nearest Neighbors:"
   ]
  },
  {
   "cell_type": "markdown",
   "metadata": {},
   "source": [
    "* model = Represents the pretrained fast text embeddings.\n",
    "* model2 = Represents the retrofitted fast text embeddings (retrofitted by using the GPT tree)."
   ]
  },
  {
   "cell_type": "code",
   "execution_count": 9,
   "metadata": {},
   "outputs": [
    {
     "data": {
      "text/plain": [
       "[('dogs', 0.856066107749939),\n",
       " ('puppy', 0.7839491963386536),\n",
       " ('Dog', 0.7767305374145508),\n",
       " ('canine', 0.7631831169128418),\n",
       " ('Mixed-breed', 0.7280029058456421),\n",
       " ('pet', 0.7213231325149536),\n",
       " ('terrier', 0.7139902114868164),\n",
       " ('labrador', 0.7112174034118652),\n",
       " ('puppies', 0.6918587684631348),\n",
       " ('non-dog', 0.6915143728256226)]"
      ]
     },
     "execution_count": 9,
     "metadata": {},
     "output_type": "execute_result"
    }
   ],
   "source": [
    "model.most_similar(\"dog\")"
   ]
  },
  {
   "cell_type": "code",
   "execution_count": 10,
   "metadata": {},
   "outputs": [
    {
     "data": {
      "text/plain": [
       "[('log', 0.7528566122055054),\n",
       " ('runs', 0.7219717502593994),\n",
       " ('run', 0.7203848361968994),\n",
       " ('filter', 0.7169942259788513),\n",
       " ('file', 0.7063214778900146),\n",
       " ('prescription', 0.7057324051856995),\n",
       " ('treats', 0.7037475109100342),\n",
       " ('optics', 0.696312427520752),\n",
       " ('projection', 0.6955459117889404),\n",
       " ('mixer', 0.6952046155929565)]"
      ]
     },
     "execution_count": 10,
     "metadata": {},
     "output_type": "execute_result"
    }
   ],
   "source": [
    "model2.most_similar(\"dog\")"
   ]
  },
  {
   "cell_type": "code",
   "execution_count": null,
   "metadata": {},
   "outputs": [],
   "source": []
  },
  {
   "cell_type": "code",
   "execution_count": 11,
   "metadata": {},
   "outputs": [
    {
     "data": {
      "text/plain": [
       "[('accessory', 0.7843335270881653),\n",
       " ('Accessories', 0.6869730949401855),\n",
       " ('accesories', 0.6507014036178589),\n",
       " ('clothing', 0.6400179862976074),\n",
       " ('peripherals', 0.6380476951599121),\n",
       " ('clothes', 0.6217091083526611),\n",
       " ('apparel', 0.6159706115722656),\n",
       " ('gadgets', 0.61528480052948),\n",
       " ('toys', 0.6110076904296875),\n",
       " ('fittings', 0.60872483253479)]"
      ]
     },
     "execution_count": 11,
     "metadata": {},
     "output_type": "execute_result"
    }
   ],
   "source": [
    "model.most_similar(\"accessories\")"
   ]
  },
  {
   "cell_type": "code",
   "execution_count": 12,
   "metadata": {},
   "outputs": [
    {
     "data": {
      "text/plain": [
       "[('lanyards', 0.7961915731430054),\n",
       " ('accessory', 0.7957953214645386),\n",
       " ('sunglasses', 0.7938290238380432),\n",
       " ('neckties', 0.7928864359855652),\n",
       " ('holsters', 0.7922384738922119),\n",
       " ('wristbands', 0.790597677230835),\n",
       " ('shoes', 0.7882179021835327),\n",
       " ('headbands', 0.7872669100761414),\n",
       " ('earmuffs', 0.7819777727127075),\n",
       " ('keychains', 0.7794281840324402)]"
      ]
     },
     "execution_count": 12,
     "metadata": {},
     "output_type": "execute_result"
    }
   ],
   "source": [
    "model2.most_similar(\"accessories\")"
   ]
  },
  {
   "cell_type": "code",
   "execution_count": null,
   "metadata": {},
   "outputs": [],
   "source": []
  },
  {
   "cell_type": "code",
   "execution_count": 13,
   "metadata": {},
   "outputs": [
    {
     "data": {
      "text/plain": [
       "[('wallet', 0.8026573657989502),\n",
       " ('pocketbooks', 0.7032922506332397),\n",
       " ('Wallets', 0.6529843807220459),\n",
       " ('purses', 0.6526540517807007),\n",
       " ('checkbooks', 0.6448601484298706),\n",
       " ('pockets', 0.6203978657722473),\n",
       " ('bags', 0.6077151298522949),\n",
       " ('billfolds', 0.6077117919921875),\n",
       " ('pocketbook', 0.6072353720664978),\n",
       " ('billfold', 0.5953696966171265)]"
      ]
     },
     "execution_count": 13,
     "metadata": {},
     "output_type": "execute_result"
    }
   ],
   "source": [
    "model.most_similar(\"wallets\")"
   ]
  },
  {
   "cell_type": "code",
   "execution_count": 14,
   "metadata": {},
   "outputs": [
    {
     "data": {
      "text/plain": [
       "[('handbags', 0.8383804559707642),\n",
       " ('safes', 0.7964895367622375),\n",
       " ('briefcases', 0.7868224382400513),\n",
       " ('keychains', 0.7807950377464294),\n",
       " ('shapewear', 0.7686017751693726),\n",
       " ('lanyards', 0.7658734321594238),\n",
       " ('wrappers', 0.7657701373100281),\n",
       " ('wristbands', 0.7641035318374634),\n",
       " ('pouches', 0.7635492086410522),\n",
       " ('outerwear', 0.7615865468978882)]"
      ]
     },
     "execution_count": 14,
     "metadata": {},
     "output_type": "execute_result"
    }
   ],
   "source": [
    "model2.most_similar(\"wallets\")"
   ]
  },
  {
   "cell_type": "code",
   "execution_count": null,
   "metadata": {},
   "outputs": [],
   "source": []
  },
  {
   "cell_type": "code",
   "execution_count": 15,
   "metadata": {},
   "outputs": [
    {
     "data": {
      "text/plain": [
       "[('bodies', 0.7608681917190552),\n",
       " ('Body', 0.7001404762268066),\n",
       " ('body-', 0.6965543627738953),\n",
       " ('body.', 0.6319359540939331),\n",
       " ('corpse', 0.6230998635292053),\n",
       " ('torso', 0.620456337928772),\n",
       " ('soul', 0.6163110136985779),\n",
       " ('politic', 0.6108350157737732),\n",
       " ('bodily', 0.5951352119445801),\n",
       " ('Bodies', 0.5944362878799438)]"
      ]
     },
     "execution_count": 15,
     "metadata": {},
     "output_type": "execute_result"
    }
   ],
   "source": [
    "model.most_similar(\"body\")"
   ]
  },
  {
   "cell_type": "code",
   "execution_count": 16,
   "metadata": {},
   "outputs": [
    {
     "data": {
      "text/plain": [
       "[('bullet', 0.7987711429595947),\n",
       " ('liquid', 0.7941423058509827),\n",
       " ('beauty', 0.7849743962287903),\n",
       " ('adult', 0.7826941013336182),\n",
       " ('picture', 0.779997706413269),\n",
       " ('bathroom', 0.779168963432312),\n",
       " ('foundation', 0.7788636684417725),\n",
       " ('jacket', 0.7767544984817505),\n",
       " ('makeup', 0.7745584845542908),\n",
       " ('handling', 0.7714335322380066)]"
      ]
     },
     "execution_count": 16,
     "metadata": {},
     "output_type": "execute_result"
    }
   ],
   "source": [
    "model2.most_similar(\"body\")"
   ]
  },
  {
   "cell_type": "code",
   "execution_count": null,
   "metadata": {},
   "outputs": [],
   "source": []
  },
  {
   "cell_type": "code",
   "execution_count": 17,
   "metadata": {},
   "outputs": [
    {
     "data": {
      "text/plain": [
       "[('furnishings', 0.8275291919708252),\n",
       " ('Furniture', 0.7492148876190186),\n",
       " ('furnitures', 0.6692862510681152),\n",
       " ('upholstery', 0.667539656162262),\n",
       " ('decor', 0.6541845798492432),\n",
       " ('ready-to-assemble', 0.6457407474517822),\n",
       " ('upholster', 0.6454246044158936),\n",
       " ('sofas', 0.6419289708137512),\n",
       " ('funiture', 0.6414642930030823),\n",
       " ('carpets', 0.6357760429382324)]"
      ]
     },
     "execution_count": 17,
     "metadata": {},
     "output_type": "execute_result"
    }
   ],
   "source": [
    "model.most_similar(\"furniture\")"
   ]
  },
  {
   "cell_type": "code",
   "execution_count": 18,
   "metadata": {},
   "outputs": [
    {
     "data": {
      "text/plain": [
       "[('supplies', 0.9265000224113464),\n",
       " ('textile', 0.9189594984054565),\n",
       " ('bathroom', 0.9179080128669739),\n",
       " ('oven', 0.9160465598106384),\n",
       " ('cottage', 0.9159978032112122),\n",
       " ('collar', 0.9150198101997375),\n",
       " ('machinery', 0.9149170517921448),\n",
       " ('packing', 0.9148876070976257),\n",
       " ('carriers', 0.9146248698234558),\n",
       " ('closet', 0.9140063524246216)]"
      ]
     },
     "execution_count": 18,
     "metadata": {},
     "output_type": "execute_result"
    }
   ],
   "source": [
    "model2.most_similar(\"furniture\")"
   ]
  },
  {
   "cell_type": "code",
   "execution_count": null,
   "metadata": {},
   "outputs": [],
   "source": []
  },
  {
   "cell_type": "code",
   "execution_count": 19,
   "metadata": {},
   "outputs": [
    {
     "data": {
      "text/plain": [
       "[('arts', 0.7529031038284302),\n",
       " ('artwork', 0.7398215532302856),\n",
       " ('artworks', 0.7263920307159424),\n",
       " ('artist', 0.7136894464492798),\n",
       " ('Art', 0.7010639905929565),\n",
       " ('artists', 0.6799641847610474),\n",
       " ('painting', 0.674174427986145),\n",
       " ('non-art', 0.6713900566101074),\n",
       " ('paintings', 0.6640246510505676),\n",
       " ('music', 0.6610509753227234)]"
      ]
     },
     "execution_count": 19,
     "metadata": {},
     "output_type": "execute_result"
    }
   ],
   "source": [
    "model.most_similar(\"art\")"
   ]
  },
  {
   "cell_type": "code",
   "execution_count": 20,
   "metadata": {},
   "outputs": [
    {
     "data": {
      "text/plain": [
       "[('vinyl', 0.7552675008773804),\n",
       " ('painting', 0.7534944415092468),\n",
       " ('tattoo', 0.7523351311683655),\n",
       " ('photography', 0.7474058270454407),\n",
       " ('design', 0.7444170117378235),\n",
       " ('textile', 0.7433103322982788),\n",
       " ('multimedia', 0.7397367358207703),\n",
       " ('jewelry', 0.7384300827980042),\n",
       " ('panels', 0.7335922718048096),\n",
       " ('dress', 0.7325646281242371)]"
      ]
     },
     "execution_count": 20,
     "metadata": {},
     "output_type": "execute_result"
    }
   ],
   "source": [
    "model2.most_similar(\"art\")"
   ]
  },
  {
   "cell_type": "code",
   "execution_count": null,
   "metadata": {},
   "outputs": [],
   "source": []
  },
  {
   "cell_type": "code",
   "execution_count": 21,
   "metadata": {},
   "outputs": [
    {
     "data": {
      "text/plain": [
       "[('Hair', 0.7046407461166382),\n",
       " ('hairs', 0.703896701335907),\n",
       " ('hairstyle', 0.696582555770874),\n",
       " ('wig', 0.6951272487640381),\n",
       " ('shoulder-length', 0.6841354370117188),\n",
       " ('Afro-textured', 0.683384895324707),\n",
       " ('frizzy', 0.6815181374549866),\n",
       " (\"'s-breadth\", 0.6813686490058899),\n",
       " ('tresses', 0.6803163886070251),\n",
       " ('beard', 0.6745689511299133)]"
      ]
     },
     "execution_count": 21,
     "metadata": {},
     "output_type": "execute_result"
    }
   ],
   "source": [
    "model.most_similar(\"hair\")"
   ]
  },
  {
   "cell_type": "code",
   "execution_count": 22,
   "metadata": {},
   "outputs": [
    {
     "data": {
      "text/plain": [
       "[('beauty', 0.8411715030670166),\n",
       " ('skin', 0.8371144533157349),\n",
       " ('makeup', 0.8317810297012329),\n",
       " ('stones', 0.8292635679244995),\n",
       " ('jelly', 0.8280124664306641),\n",
       " ('shorts', 0.8173429369926453),\n",
       " ('blond', 0.8134829998016357),\n",
       " ('dolls', 0.8112242817878723),\n",
       " ('mixing', 0.8111795783042908),\n",
       " ('grease', 0.8102636337280273)]"
      ]
     },
     "execution_count": 22,
     "metadata": {},
     "output_type": "execute_result"
    }
   ],
   "source": [
    "model2.most_similar(\"hair\")"
   ]
  },
  {
   "cell_type": "code",
   "execution_count": null,
   "metadata": {},
   "outputs": [],
   "source": []
  },
  {
   "cell_type": "code",
   "execution_count": 23,
   "metadata": {},
   "outputs": [
    {
     "data": {
      "text/plain": [
       "[('weaponry', 0.8535746932029724),\n",
       " ('weapon', 0.8243920803070068),\n",
       " ('Weapons', 0.755706787109375),\n",
       " ('armaments', 0.729428231716156),\n",
       " ('firearms', 0.7179873585700989),\n",
       " ('weapons-', 0.6937237977981567),\n",
       " ('missiles', 0.6878202557563782),\n",
       " ('ammunition', 0.6836569905281067),\n",
       " ('guns', 0.6834976673126221),\n",
       " ('weopons', 0.6809281706809998)]"
      ]
     },
     "execution_count": 23,
     "metadata": {},
     "output_type": "execute_result"
    }
   ],
   "source": [
    "model.most_similar(\"weapons\")"
   ]
  },
  {
   "cell_type": "code",
   "execution_count": 24,
   "metadata": {},
   "outputs": [
    {
     "data": {
      "text/plain": [
       "[('combat', 0.9012898802757263),\n",
       " ('swords', 0.880634069442749),\n",
       " ('ammunition', 0.8728675842285156),\n",
       " ('knives', 0.8718168139457703),\n",
       " ('carrying', 0.8604076504707336),\n",
       " ('tactical', 0.8562833070755005),\n",
       " ('tanks', 0.8561238646507263),\n",
       " ('gloves', 0.8548803329467773),\n",
       " ('staff', 0.8535212278366089),\n",
       " ('dummies', 0.8515027165412903)]"
      ]
     },
     "execution_count": 24,
     "metadata": {},
     "output_type": "execute_result"
    }
   ],
   "source": [
    "model2.most_similar(\"weapons\")"
   ]
  },
  {
   "cell_type": "code",
   "execution_count": null,
   "metadata": {},
   "outputs": [],
   "source": []
  },
  {
   "cell_type": "code",
   "execution_count": 25,
   "metadata": {},
   "outputs": [
    {
     "data": {
      "text/plain": [
       "[('greases', 0.6793305277824402),\n",
       " ('greased', 0.6634068489074707),\n",
       " ('greasing', 0.6323863863945007),\n",
       " ('greasy', 0.6243027448654175),\n",
       " ('oily', 0.6229610443115234),\n",
       " ('wheels', 0.6229103803634644),\n",
       " ('oils', 0.6038074493408203),\n",
       " ('oiled', 0.5976120233535767),\n",
       " ('oil', 0.5969924330711365),\n",
       " ('oiling', 0.588694155216217)]"
      ]
     },
     "execution_count": 25,
     "metadata": {},
     "output_type": "execute_result"
    }
   ],
   "source": [
    "model.most_similar(\"grease\")"
   ]
  },
  {
   "cell_type": "code",
   "execution_count": 26,
   "metadata": {},
   "outputs": [
    {
     "data": {
      "text/plain": [
       "[('mixing', 0.9250383973121643),\n",
       " ('horns', 0.9179040193557739),\n",
       " ('strings', 0.9174578189849854),\n",
       " ('bells', 0.9119574427604675),\n",
       " ('acoustic', 0.9115755558013916),\n",
       " ('tubes', 0.9099721312522888),\n",
       " ('guitars', 0.9062897562980652),\n",
       " ('collar', 0.9062354564666748),\n",
       " ('curtain', 0.9036223292350769),\n",
       " ('instrument', 0.9013305902481079)]"
      ]
     },
     "execution_count": 26,
     "metadata": {},
     "output_type": "execute_result"
    }
   ],
   "source": [
    "model2.most_similar(\"grease\")"
   ]
  },
  {
   "cell_type": "code",
   "execution_count": null,
   "metadata": {},
   "outputs": [],
   "source": []
  },
  {
   "cell_type": "code",
   "execution_count": 27,
   "metadata": {},
   "outputs": [
    {
     "data": {
      "text/plain": [
       "[('legs', 0.7889201641082764),\n",
       " ('ankle', 0.6882773041725159),\n",
       " ('Leg', 0.6849445104598999),\n",
       " ('thigh', 0.6694517731666565),\n",
       " ('arm', 0.6648433208465576),\n",
       " ('knee', 0.641731858253479),\n",
       " ('gammy', 0.6401140689849854),\n",
       " ('foot', 0.6156903505325317),\n",
       " ('groin', 0.5901998281478882),\n",
       " ('femur', 0.5824201107025146)]"
      ]
     },
     "execution_count": 27,
     "metadata": {},
     "output_type": "execute_result"
    }
   ],
   "source": [
    "model.most_similar(\"leg\")"
   ]
  },
  {
   "cell_type": "code",
   "execution_count": 28,
   "metadata": {},
   "outputs": [
    {
     "data": {
      "text/plain": [
       "[('shoulder', 0.8091729879379272),\n",
       " ('jumper', 0.8016135692596436),\n",
       " ('roller', 0.796519935131073),\n",
       " ('plate', 0.7964159250259399),\n",
       " ('rubber', 0.7912031412124634),\n",
       " ('balloon', 0.7910400629043579),\n",
       " ('gloves', 0.7885435819625854),\n",
       " ('knee', 0.7882080674171448),\n",
       " ('leather', 0.7879161238670349),\n",
       " ('umbrella', 0.7857620120048523)]"
      ]
     },
     "execution_count": 28,
     "metadata": {},
     "output_type": "execute_result"
    }
   ],
   "source": [
    "model2.most_similar(\"leg\")"
   ]
  },
  {
   "cell_type": "code",
   "execution_count": null,
   "metadata": {},
   "outputs": [],
   "source": []
  },
  {
   "cell_type": "code",
   "execution_count": null,
   "metadata": {},
   "outputs": [],
   "source": []
  }
 ],
 "metadata": {
  "colab": {
   "collapsed_sections": [],
   "name": "FastText Product Embeddings.ipynb",
   "provenance": []
  },
  "kernelspec": {
   "display_name": "Python 3",
   "language": "python",
   "name": "python3"
  },
  "language_info": {
   "codemirror_mode": {
    "name": "ipython",
    "version": 3
   },
   "file_extension": ".py",
   "mimetype": "text/x-python",
   "name": "python",
   "nbconvert_exporter": "python",
   "pygments_lexer": "ipython3",
   "version": "3.7.4"
  }
 },
 "nbformat": 4,
 "nbformat_minor": 1
}